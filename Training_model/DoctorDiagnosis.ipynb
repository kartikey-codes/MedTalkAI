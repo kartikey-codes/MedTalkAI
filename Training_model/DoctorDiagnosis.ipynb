{
  "nbformat": 4,
  "nbformat_minor": 0,
  "metadata": {
    "colab": {
      "provenance": []
    },
    "kernelspec": {
      "name": "python3",
      "display_name": "Python 3"
    },
    "language_info": {
      "name": "python"
    }
  },
  "cells": [
    {
      "cell_type": "code",
      "execution_count": null,
      "metadata": {
        "id": "5yDS3NfNTk9D"
      },
      "outputs": [],
      "source": [
        "import spacy"
      ]
    },
    {
      "cell_type": "code",
      "source": [
        "!python -m spacy download en_core_web_lg"
      ],
      "metadata": {
        "colab": {
          "base_uri": "https://localhost:8080/"
        },
        "id": "m0vKV0PwUfKw",
        "outputId": "2d91cba7-0195-4115-8826-3a07e7fdaf2d"
      },
      "execution_count": null,
      "outputs": [
        {
          "output_type": "stream",
          "name": "stdout",
          "text": [
            "Collecting en-core-web-lg==3.7.1\n",
            "  Downloading https://github.com/explosion/spacy-models/releases/download/en_core_web_lg-3.7.1/en_core_web_lg-3.7.1-py3-none-any.whl (587.7 MB)\n",
            "\u001b[2K     \u001b[90m━━━━━━━━━━━━━━━━━━━━━━━━━━━━━━━━━━━━━━━━\u001b[0m \u001b[32m587.7/587.7 MB\u001b[0m \u001b[31m2.2 MB/s\u001b[0m eta \u001b[36m0:00:00\u001b[0m\n",
            "\u001b[?25hRequirement already satisfied: spacy<3.8.0,>=3.7.2 in /usr/local/lib/python3.10/dist-packages (from en-core-web-lg==3.7.1) (3.7.4)\n",
            "Requirement already satisfied: spacy-legacy<3.1.0,>=3.0.11 in /usr/local/lib/python3.10/dist-packages (from spacy<3.8.0,>=3.7.2->en-core-web-lg==3.7.1) (3.0.12)\n",
            "Requirement already satisfied: spacy-loggers<2.0.0,>=1.0.0 in /usr/local/lib/python3.10/dist-packages (from spacy<3.8.0,>=3.7.2->en-core-web-lg==3.7.1) (1.0.5)\n",
            "Requirement already satisfied: murmurhash<1.1.0,>=0.28.0 in /usr/local/lib/python3.10/dist-packages (from spacy<3.8.0,>=3.7.2->en-core-web-lg==3.7.1) (1.0.10)\n",
            "Requirement already satisfied: cymem<2.1.0,>=2.0.2 in /usr/local/lib/python3.10/dist-packages (from spacy<3.8.0,>=3.7.2->en-core-web-lg==3.7.1) (2.0.8)\n",
            "Requirement already satisfied: preshed<3.1.0,>=3.0.2 in /usr/local/lib/python3.10/dist-packages (from spacy<3.8.0,>=3.7.2->en-core-web-lg==3.7.1) (3.0.9)\n",
            "Requirement already satisfied: thinc<8.3.0,>=8.2.2 in /usr/local/lib/python3.10/dist-packages (from spacy<3.8.0,>=3.7.2->en-core-web-lg==3.7.1) (8.2.3)\n",
            "Requirement already satisfied: wasabi<1.2.0,>=0.9.1 in /usr/local/lib/python3.10/dist-packages (from spacy<3.8.0,>=3.7.2->en-core-web-lg==3.7.1) (1.1.2)\n",
            "Requirement already satisfied: srsly<3.0.0,>=2.4.3 in /usr/local/lib/python3.10/dist-packages (from spacy<3.8.0,>=3.7.2->en-core-web-lg==3.7.1) (2.4.8)\n",
            "Requirement already satisfied: catalogue<2.1.0,>=2.0.6 in /usr/local/lib/python3.10/dist-packages (from spacy<3.8.0,>=3.7.2->en-core-web-lg==3.7.1) (2.0.10)\n",
            "Requirement already satisfied: weasel<0.4.0,>=0.1.0 in /usr/local/lib/python3.10/dist-packages (from spacy<3.8.0,>=3.7.2->en-core-web-lg==3.7.1) (0.3.4)\n",
            "Requirement already satisfied: typer<0.10.0,>=0.3.0 in /usr/local/lib/python3.10/dist-packages (from spacy<3.8.0,>=3.7.2->en-core-web-lg==3.7.1) (0.9.0)\n",
            "Requirement already satisfied: smart-open<7.0.0,>=5.2.1 in /usr/local/lib/python3.10/dist-packages (from spacy<3.8.0,>=3.7.2->en-core-web-lg==3.7.1) (6.4.0)\n",
            "Requirement already satisfied: tqdm<5.0.0,>=4.38.0 in /usr/local/lib/python3.10/dist-packages (from spacy<3.8.0,>=3.7.2->en-core-web-lg==3.7.1) (4.66.2)\n",
            "Requirement already satisfied: requests<3.0.0,>=2.13.0 in /usr/local/lib/python3.10/dist-packages (from spacy<3.8.0,>=3.7.2->en-core-web-lg==3.7.1) (2.31.0)\n",
            "Requirement already satisfied: pydantic!=1.8,!=1.8.1,<3.0.0,>=1.7.4 in /usr/local/lib/python3.10/dist-packages (from spacy<3.8.0,>=3.7.2->en-core-web-lg==3.7.1) (2.6.4)\n",
            "Requirement already satisfied: jinja2 in /usr/local/lib/python3.10/dist-packages (from spacy<3.8.0,>=3.7.2->en-core-web-lg==3.7.1) (3.1.3)\n",
            "Requirement already satisfied: setuptools in /usr/local/lib/python3.10/dist-packages (from spacy<3.8.0,>=3.7.2->en-core-web-lg==3.7.1) (67.7.2)\n",
            "Requirement already satisfied: packaging>=20.0 in /usr/local/lib/python3.10/dist-packages (from spacy<3.8.0,>=3.7.2->en-core-web-lg==3.7.1) (24.0)\n",
            "Requirement already satisfied: langcodes<4.0.0,>=3.2.0 in /usr/local/lib/python3.10/dist-packages (from spacy<3.8.0,>=3.7.2->en-core-web-lg==3.7.1) (3.3.0)\n",
            "Requirement already satisfied: numpy>=1.19.0 in /usr/local/lib/python3.10/dist-packages (from spacy<3.8.0,>=3.7.2->en-core-web-lg==3.7.1) (1.25.2)\n",
            "Requirement already satisfied: annotated-types>=0.4.0 in /usr/local/lib/python3.10/dist-packages (from pydantic!=1.8,!=1.8.1,<3.0.0,>=1.7.4->spacy<3.8.0,>=3.7.2->en-core-web-lg==3.7.1) (0.6.0)\n",
            "Requirement already satisfied: pydantic-core==2.16.3 in /usr/local/lib/python3.10/dist-packages (from pydantic!=1.8,!=1.8.1,<3.0.0,>=1.7.4->spacy<3.8.0,>=3.7.2->en-core-web-lg==3.7.1) (2.16.3)\n",
            "Requirement already satisfied: typing-extensions>=4.6.1 in /usr/local/lib/python3.10/dist-packages (from pydantic!=1.8,!=1.8.1,<3.0.0,>=1.7.4->spacy<3.8.0,>=3.7.2->en-core-web-lg==3.7.1) (4.10.0)\n",
            "Requirement already satisfied: charset-normalizer<4,>=2 in /usr/local/lib/python3.10/dist-packages (from requests<3.0.0,>=2.13.0->spacy<3.8.0,>=3.7.2->en-core-web-lg==3.7.1) (3.3.2)\n",
            "Requirement already satisfied: idna<4,>=2.5 in /usr/local/lib/python3.10/dist-packages (from requests<3.0.0,>=2.13.0->spacy<3.8.0,>=3.7.2->en-core-web-lg==3.7.1) (3.6)\n",
            "Requirement already satisfied: urllib3<3,>=1.21.1 in /usr/local/lib/python3.10/dist-packages (from requests<3.0.0,>=2.13.0->spacy<3.8.0,>=3.7.2->en-core-web-lg==3.7.1) (2.0.7)\n",
            "Requirement already satisfied: certifi>=2017.4.17 in /usr/local/lib/python3.10/dist-packages (from requests<3.0.0,>=2.13.0->spacy<3.8.0,>=3.7.2->en-core-web-lg==3.7.1) (2024.2.2)\n",
            "Requirement already satisfied: blis<0.8.0,>=0.7.8 in /usr/local/lib/python3.10/dist-packages (from thinc<8.3.0,>=8.2.2->spacy<3.8.0,>=3.7.2->en-core-web-lg==3.7.1) (0.7.11)\n",
            "Requirement already satisfied: confection<1.0.0,>=0.0.1 in /usr/local/lib/python3.10/dist-packages (from thinc<8.3.0,>=8.2.2->spacy<3.8.0,>=3.7.2->en-core-web-lg==3.7.1) (0.1.4)\n",
            "Requirement already satisfied: click<9.0.0,>=7.1.1 in /usr/local/lib/python3.10/dist-packages (from typer<0.10.0,>=0.3.0->spacy<3.8.0,>=3.7.2->en-core-web-lg==3.7.1) (8.1.7)\n",
            "Requirement already satisfied: cloudpathlib<0.17.0,>=0.7.0 in /usr/local/lib/python3.10/dist-packages (from weasel<0.4.0,>=0.1.0->spacy<3.8.0,>=3.7.2->en-core-web-lg==3.7.1) (0.16.0)\n",
            "Requirement already satisfied: MarkupSafe>=2.0 in /usr/local/lib/python3.10/dist-packages (from jinja2->spacy<3.8.0,>=3.7.2->en-core-web-lg==3.7.1) (2.1.5)\n",
            "Installing collected packages: en-core-web-lg\n",
            "Successfully installed en-core-web-lg-3.7.1\n",
            "\u001b[38;5;2m✔ Download and installation successful\u001b[0m\n",
            "You can now load the package via spacy.load('en_core_web_lg')\n",
            "\u001b[38;5;3m⚠ Restart to reload dependencies\u001b[0m\n",
            "If you are in a Jupyter or Colab notebook, you may need to restart Python in\n",
            "order to load all the package's dependencies. You can do this by selecting the\n",
            "'Restart kernel' or 'Restart runtime' option.\n"
          ]
        }
      ]
    },
    {
      "cell_type": "code",
      "source": [
        "import json\n",
        "with open('/content/drive/MyDrive/doctor_diagnosis/annotations.json', 'r') as f:\n",
        "    data = json.load(f)"
      ],
      "metadata": {
        "id": "7JLDp9W2UfI7"
      },
      "execution_count": null,
      "outputs": []
    },
    {
      "cell_type": "code",
      "source": [
        "data['annotations'][0]\n"
      ],
      "metadata": {
        "colab": {
          "base_uri": "https://localhost:8080/"
        },
        "id": "a3e-TZ1NVwQ9",
        "outputId": "491b87bd-16df-4475-d067-fd76e7d5b12b"
      },
      "execution_count": null,
      "outputs": [
        {
          "output_type": "execute_result",
          "data": {
            "text/plain": [
              "[\" Patient: My 1 year old daughter has been congested for about 2 days no coughing. Today she was fine this morning other than the stuffy nose. Now she is just laying around, just wants held interested in absolutely nothing and she has projectile vomited 3 times. Pneumonia is going around I know numerous people that have it. Are those symptoms? Doctor: Thanks for your question on Healthcare Magic.I can understand your concern.Yes, possibility of pneumonia is more.Children don't show high grade fever sometimes.Vomiting can be seen in pneumonia. Chest congestion is classical symptom of pneumonia in children.So better to take her to pediatrician and get done clinical examination of respiratory system and chest x ray.She may need antibiotics and other supportive drugs.Hope I have solved your query. I will be happy to help you further. Wishing good health to your daughter. Thanks.  \\r\",\n",
              " {'entities': [[129, 141, 'SYMPTOMS'],\n",
              "   [262, 271, 'DISEASE'],\n",
              "   [448, 457, 'DISEASE'],\n",
              "   [503, 521, 'SYMPTOMS'],\n",
              "   [537, 547, 'DISEASE'],\n",
              "   [548, 564, 'SYMPTOMS'],\n",
              "   [589, 598, 'DISEASE'],\n",
              "   [653, 724, 'DIAGNOSIS'],\n",
              "   [734, 777, 'MEDICINE']]}]"
            ]
          },
          "metadata": {},
          "execution_count": 4
        }
      ]
    },
    {
      "cell_type": "code",
      "source": [
        "import spacy\n",
        "from spacy.tokens import DocBin\n",
        "from tqdm import tqdm\n",
        "\n",
        "nlp = spacy.blank(\"en\") # load a new spacy model\n",
        "doc_bin = DocBin()"
      ],
      "metadata": {
        "id": "6fTW1r4KVxkJ"
      },
      "execution_count": null,
      "outputs": []
    },
    {
      "cell_type": "code",
      "source": [
        "from spacy.util import filter_spans\n",
        "from spacy.tokens import DocBin\n",
        "import spacy\n",
        "import json\n",
        "\n",
        "# Load the spaCy model\n",
        "nlp = spacy.blank(\"en\")\n",
        "\n",
        "# Load the dataset from the JSON file\n",
        "with open('/content/drive/MyDrive/doctor_diagnosis/annotations.json', 'r') as f:\n",
        "    data = json.load(f)\n",
        "\n",
        "# Initialize a DocBin to store the processed documents\n",
        "doc_bin = DocBin()\n",
        "\n",
        "# Iterate through each training example\n",
        "for example in data['annotations']:\n",
        "    text = example[0]\n",
        "    entities = example[1]['entities']\n",
        "\n",
        "    # Create a Doc object from the text\n",
        "    doc = nlp(text)\n",
        "\n",
        "    # Initialize a list to store the entities\n",
        "    ents = []\n",
        "\n",
        "    # Iterate through each entity in the example\n",
        "    for start, end, label in entities:\n",
        "        # Create a span for the entity and add it to the list of entities\n",
        "        span = doc.char_span(start, end, label=label)\n",
        "        if span is None:\n",
        "            print(\"Skipping entity\")\n",
        "        else:\n",
        "            ents.append(span)\n",
        "\n",
        "    # Filter the spans to ensure there are no overlaps\n",
        "    filtered_ents = filter_spans(ents)\n",
        "\n",
        "    # Assign the filtered entities to the Doc object\n",
        "    doc.ents = filtered_ents\n",
        "\n",
        "    # Add the processed document to the DocBin\n",
        "    doc_bin.add(doc)\n",
        "\n",
        "# Define the file path where you want to save the spaCy binary file\n",
        "file_path = '/content/drive/MyDrive/doctor_diagnosis/train.spacy'\n",
        "\n",
        "# Save the processed documents to the specified file path\n",
        "doc_bin.to_disk(file_path)\n",
        "\n",
        "print(f\"Processed documents saved to {file_path}\")"
      ],
      "metadata": {
        "colab": {
          "base_uri": "https://localhost:8080/"
        },
        "id": "7hmqOimDWFqJ",
        "outputId": "a21e72db-30b7-475f-b12f-811753f100e2"
      },
      "execution_count": null,
      "outputs": [
        {
          "output_type": "stream",
          "name": "stdout",
          "text": [
            "Skipping entity\n",
            "Skipping entity\n",
            "Skipping entity\n",
            "Skipping entity\n",
            "Skipping entity\n",
            "Skipping entity\n",
            "Skipping entity\n",
            "Skipping entity\n",
            "Processed documents saved to /content/drive/MyDrive/doctor_diagnosis/train.spacy\n"
          ]
        }
      ]
    },
    {
      "cell_type": "code",
      "source": [
        "!python -m spacy init fill-config /content/drive/MyDrive/doctor_diagnosis/base_config.cfg /content/drive/MyDrive/doctor_diagnosis/config.cfg"
      ],
      "metadata": {
        "colab": {
          "base_uri": "https://localhost:8080/"
        },
        "id": "0ePOGyp5Whba",
        "outputId": "4b79988d-b6f7-4d51-9fb1-5b08e2aba2c7"
      },
      "execution_count": null,
      "outputs": [
        {
          "output_type": "stream",
          "name": "stdout",
          "text": [
            "\u001b[38;5;2m✔ Auto-filled config with all values\u001b[0m\n",
            "\u001b[38;5;2m✔ Saved config\u001b[0m\n",
            "/content/drive/MyDrive/doctor_diagnosis/config.cfg\n",
            "You can now add your data and train your pipeline:\n",
            "python -m spacy train config.cfg --paths.train ./train.spacy --paths.dev ./dev.spacy\n"
          ]
        }
      ]
    },
    {
      "cell_type": "code",
      "source": [
        "import spacy\n",
        "\n",
        "# Download and install the large English model\n",
        "spacy.cli.download(\"en_core_web_lg\")\n",
        "\n",
        "# Load the model\n",
        "nlp = spacy.load(\"en_core_web_lg\")"
      ],
      "metadata": {
        "colab": {
          "base_uri": "https://localhost:8080/"
        },
        "id": "IHtPh0X6XVvi",
        "outputId": "5adcc51d-3e1b-479d-f845-1e77561ffe83"
      },
      "execution_count": null,
      "outputs": [
        {
          "output_type": "stream",
          "name": "stdout",
          "text": [
            "\u001b[38;5;2m✔ Download and installation successful\u001b[0m\n",
            "You can now load the package via spacy.load('en_core_web_lg')\n",
            "\u001b[38;5;3m⚠ Restart to reload dependencies\u001b[0m\n",
            "If you are in a Jupyter or Colab notebook, you may need to restart Python in\n",
            "order to load all the package's dependencies. You can do this by selecting the\n",
            "'Restart kernel' or 'Restart runtime' option.\n"
          ]
        }
      ]
    },
    {
      "cell_type": "code",
      "source": [
        "!python -m spacy train /content/drive/MyDrive/doctor_diagnosis/config.cfg --output /content/drive/MyDrive/doctor_diagnosis --paths.train /content/drive/MyDrive/doctor_diagnosis/train.spacy --paths.dev /content/drive/MyDrive/doctor_diagnosis/train.spacy"
      ],
      "metadata": {
        "colab": {
          "base_uri": "https://localhost:8080/"
        },
        "id": "ER0UoRbzX2Q5",
        "outputId": "cb18013f-515a-40bc-e0a3-78c5546fb642"
      },
      "execution_count": null,
      "outputs": [
        {
          "output_type": "stream",
          "name": "stdout",
          "text": [
            "\u001b[38;5;4mℹ Saving to output directory:\n",
            "/content/drive/MyDrive/doctor_diagnosis\u001b[0m\n",
            "\u001b[38;5;4mℹ Using CPU\u001b[0m\n",
            "\u001b[1m\n",
            "=========================== Initializing pipeline ===========================\u001b[0m\n",
            "\u001b[38;5;2m✔ Initialized pipeline\u001b[0m\n",
            "\u001b[1m\n",
            "============================= Training pipeline =============================\u001b[0m\n",
            "\u001b[38;5;4mℹ Pipeline: ['tok2vec', 'ner']\u001b[0m\n",
            "\u001b[38;5;4mℹ Initial learn rate: 0.001\u001b[0m\n",
            "E    #       LOSS TOK2VEC  LOSS NER  ENTS_F  ENTS_P  ENTS_R  SCORE \n",
            "---  ------  ------------  --------  ------  ------  ------  ------\n",
            "  0       0          0.00     97.86    0.20    0.22    0.19    0.00\n",
            "  1     200        314.09   4637.48   39.93   52.29   32.30    0.40\n",
            "  3     400        893.86   3429.81   49.86   50.78   48.96    0.50\n",
            "  5     600        725.99   2895.39   54.93   59.98   50.66    0.55\n",
            "  7     800        227.06   2312.53   62.00   58.59   65.82    0.62\n",
            "  9    1000        301.84   1995.28   76.84   77.80   75.89    0.77\n",
            "\u001b[38;5;2m✔ Saved pipeline to output directory\u001b[0m\n",
            "/content/drive/MyDrive/doctor_diagnosis/model-last\n"
          ]
        }
      ]
    },
    {
      "cell_type": "code",
      "source": [
        "nlp_ner = spacy.load(\"/content/drive/MyDrive/doctor_diagnosis/model-best\")"
      ],
      "metadata": {
        "id": "vQ1KDVKXfUHj"
      },
      "execution_count": null,
      "outputs": []
    },
    {
      "cell_type": "code",
      "source": [
        "doc = nlp_ner(\" Patient: my mom was diagnosed with bacterial pneumonia back in late december. After a round of antibiotics, she felt much better but the xray still showed pneumonia. A round of stronger antibiotics were then given to her. She went back for a follow up xray last week and the xray now shows the pneumonia is in both lungs. The strange thing is...she has NO symptoms. No coughing, no fever, nothing. Could it possibly be viral? or fluid? or cancer???? Btw she has never smoked in her life. Doctor: Thanks for your question on Healthcare Magic. I can understand your concern. Radiological resolution takes 2-3 weeks in pneumonia. So it is possible that patient of pneumonia is improved symptomatically but still show pneumonia on chest x ray. So in my opinion, you should should waiting for 2 weeks more. Get done repeat chest x ray after 2 weeks.If chest x ray is showing pneumonia then go for CT thorax and bronchoscopy to rule out lung cancer, Tuberculosis, Fungal pneumonia. If xun4 ray is improving then no need to worry. Hope I have solved your query. I will be happy to help you further. Wishing good health to your mother. Thanks. \")\n",
        "\n",
        "# colors = {\n",
        "#     \"NAME OF PATIENT\": \"#F67DE3\",\n",
        "#     \"AGE\": \"#7DF6D9\",\n",
        "#     \"WEIGHT\": \"#a6e22d\",\n",
        "#     \"NUMBER\": \"#FF5733\",\n",
        "#     \"ADDRESS\": \"#3498db\",\n",
        "#     \"DATE OF ADMISSION\": \"#f39c12\"\n",
        "# }\n",
        "colors = {\n",
        "    \"SYMPTOMS\": \"#F67DE3\",\n",
        "    \"DIAGNOSIS\": \"#7DF6D9\",\n",
        "    \"DISEASE\": \"#a6e22d\",\n",
        "    \"MEDICINE\": \"#FF5733\",\n",
        "    \"MED TIME\": \"#3498db\"\n",
        "}\n",
        "options = {\"colors\": colors}\n",
        "\n",
        "spacy.displacy.render(doc, style=\"ent\", options= options, jupyter=True)\n",
        "mapped = []\n",
        "\n",
        "for ent in doc.ents:\n",
        "    mapped.append({\n",
        "        \"text\": ent.text,\n",
        "        \"label\": ent.label_\n",
        "    })\n",
        "\n",
        "print(mapped)"
      ],
      "metadata": {
        "colab": {
          "base_uri": "https://localhost:8080/",
          "height": 334
        },
        "id": "KPNYfxxOfw2J",
        "outputId": "c0a42323-1c2f-4efb-8016-6fa82a3ab1eb"
      },
      "execution_count": null,
      "outputs": [
        {
          "output_type": "display_data",
          "data": {
            "text/plain": [
              "<IPython.core.display.HTML object>"
            ],
            "text/html": [
              "<span class=\"tex2jax_ignore\"><div class=\"entities\" style=\"line-height: 2.5; direction: ltr\"> Patient: my mom was diagnosed with \n",
              "<mark class=\"entity\" style=\"background: #a6e22d; padding: 0.45em 0.6em; margin: 0 0.25em; line-height: 1; border-radius: 0.35em;\">\n",
              "    bacterial pneumonia\n",
              "    <span style=\"font-size: 0.8em; font-weight: bold; line-height: 1; border-radius: 0.35em; vertical-align: middle; margin-left: 0.5rem\">DISEASE</span>\n",
              "</mark>\n",
              " back in late december. After a round of antibiotics, she felt much better but the xray still showed \n",
              "<mark class=\"entity\" style=\"background: #a6e22d; padding: 0.45em 0.6em; margin: 0 0.25em; line-height: 1; border-radius: 0.35em;\">\n",
              "    pneumonia.\n",
              "    <span style=\"font-size: 0.8em; font-weight: bold; line-height: 1; border-radius: 0.35em; vertical-align: middle; margin-left: 0.5rem\">DISEASE</span>\n",
              "</mark>\n",
              " A round of stronger \n",
              "<mark class=\"entity\" style=\"background: #FF5733; padding: 0.45em 0.6em; margin: 0 0.25em; line-height: 1; border-radius: 0.35em;\">\n",
              "    antibiotics\n",
              "    <span style=\"font-size: 0.8em; font-weight: bold; line-height: 1; border-radius: 0.35em; vertical-align: middle; margin-left: 0.5rem\">MEDICINE</span>\n",
              "</mark>\n",
              " were then given to her. She went back for a follow up \n",
              "<mark class=\"entity\" style=\"background: #7DF6D9; padding: 0.45em 0.6em; margin: 0 0.25em; line-height: 1; border-radius: 0.35em;\">\n",
              "    xray\n",
              "    <span style=\"font-size: 0.8em; font-weight: bold; line-height: 1; border-radius: 0.35em; vertical-align: middle; margin-left: 0.5rem\">DIAGNOSIS</span>\n",
              "</mark>\n",
              " last week and the xray now shows the \n",
              "<mark class=\"entity\" style=\"background: #a6e22d; padding: 0.45em 0.6em; margin: 0 0.25em; line-height: 1; border-radius: 0.35em;\">\n",
              "    pneumonia is in both lungs.\n",
              "    <span style=\"font-size: 0.8em; font-weight: bold; line-height: 1; border-radius: 0.35em; vertical-align: middle; margin-left: 0.5rem\">DISEASE</span>\n",
              "</mark>\n",
              " The strange thing is...she has NO symptoms. \n",
              "<mark class=\"entity\" style=\"background: #F67DE3; padding: 0.45em 0.6em; margin: 0 0.25em; line-height: 1; border-radius: 0.35em;\">\n",
              "    No coughing\n",
              "    <span style=\"font-size: 0.8em; font-weight: bold; line-height: 1; border-radius: 0.35em; vertical-align: middle; margin-left: 0.5rem\">SYMPTOMS</span>\n",
              "</mark>\n",
              ", \n",
              "<mark class=\"entity\" style=\"background: #F67DE3; padding: 0.45em 0.6em; margin: 0 0.25em; line-height: 1; border-radius: 0.35em;\">\n",
              "    no fever\n",
              "    <span style=\"font-size: 0.8em; font-weight: bold; line-height: 1; border-radius: 0.35em; vertical-align: middle; margin-left: 0.5rem\">SYMPTOMS</span>\n",
              "</mark>\n",
              ", nothing. Could it possibly be viral? or fluid? or cancer???? Btw she has never smoked in her life. Doctor: Thanks for your question on Healthcare Magic. I can understand your concern. Radiological resolution takes 2-3 weeks in \n",
              "<mark class=\"entity\" style=\"background: #a6e22d; padding: 0.45em 0.6em; margin: 0 0.25em; line-height: 1; border-radius: 0.35em;\">\n",
              "    pneumonia.\n",
              "    <span style=\"font-size: 0.8em; font-weight: bold; line-height: 1; border-radius: 0.35em; vertical-align: middle; margin-left: 0.5rem\">DISEASE</span>\n",
              "</mark>\n",
              " So it is possible that patient of \n",
              "<mark class=\"entity\" style=\"background: #a6e22d; padding: 0.45em 0.6em; margin: 0 0.25em; line-height: 1; border-radius: 0.35em;\">\n",
              "    pneumonia\n",
              "    <span style=\"font-size: 0.8em; font-weight: bold; line-height: 1; border-radius: 0.35em; vertical-align: middle; margin-left: 0.5rem\">DISEASE</span>\n",
              "</mark>\n",
              " is improved symptomatically but still show \n",
              "<mark class=\"entity\" style=\"background: #a6e22d; padding: 0.45em 0.6em; margin: 0 0.25em; line-height: 1; border-radius: 0.35em;\">\n",
              "    pneumonia\n",
              "    <span style=\"font-size: 0.8em; font-weight: bold; line-height: 1; border-radius: 0.35em; vertical-align: middle; margin-left: 0.5rem\">DISEASE</span>\n",
              "</mark>\n",
              " on chest x ray. So in my opinion, you should should waiting for 2 weeks more. Get done repeat chest x ray after 2 weeks.If \n",
              "<mark class=\"entity\" style=\"background: #7DF6D9; padding: 0.45em 0.6em; margin: 0 0.25em; line-height: 1; border-radius: 0.35em;\">\n",
              "    chest x ray is showing\n",
              "    <span style=\"font-size: 0.8em; font-weight: bold; line-height: 1; border-radius: 0.35em; vertical-align: middle; margin-left: 0.5rem\">DIAGNOSIS</span>\n",
              "</mark>\n",
              " \n",
              "<mark class=\"entity\" style=\"background: #a6e22d; padding: 0.45em 0.6em; margin: 0 0.25em; line-height: 1; border-radius: 0.35em;\">\n",
              "    pneumonia\n",
              "    <span style=\"font-size: 0.8em; font-weight: bold; line-height: 1; border-radius: 0.35em; vertical-align: middle; margin-left: 0.5rem\">DISEASE</span>\n",
              "</mark>\n",
              " then go for \n",
              "<mark class=\"entity\" style=\"background: #7DF6D9; padding: 0.45em 0.6em; margin: 0 0.25em; line-height: 1; border-radius: 0.35em;\">\n",
              "    CT thorax\n",
              "    <span style=\"font-size: 0.8em; font-weight: bold; line-height: 1; border-radius: 0.35em; vertical-align: middle; margin-left: 0.5rem\">DIAGNOSIS</span>\n",
              "</mark>\n",
              " and \n",
              "<mark class=\"entity\" style=\"background: #7DF6D9; padding: 0.45em 0.6em; margin: 0 0.25em; line-height: 1; border-radius: 0.35em;\">\n",
              "    bronchoscopy\n",
              "    <span style=\"font-size: 0.8em; font-weight: bold; line-height: 1; border-radius: 0.35em; vertical-align: middle; margin-left: 0.5rem\">DIAGNOSIS</span>\n",
              "</mark>\n",
              " to rule out \n",
              "<mark class=\"entity\" style=\"background: #a6e22d; padding: 0.45em 0.6em; margin: 0 0.25em; line-height: 1; border-radius: 0.35em;\">\n",
              "    lung cancer\n",
              "    <span style=\"font-size: 0.8em; font-weight: bold; line-height: 1; border-radius: 0.35em; vertical-align: middle; margin-left: 0.5rem\">DISEASE</span>\n",
              "</mark>\n",
              ", \n",
              "<mark class=\"entity\" style=\"background: #a6e22d; padding: 0.45em 0.6em; margin: 0 0.25em; line-height: 1; border-radius: 0.35em;\">\n",
              "    Tuberculosis\n",
              "    <span style=\"font-size: 0.8em; font-weight: bold; line-height: 1; border-radius: 0.35em; vertical-align: middle; margin-left: 0.5rem\">DISEASE</span>\n",
              "</mark>\n",
              ", \n",
              "<mark class=\"entity\" style=\"background: #a6e22d; padding: 0.45em 0.6em; margin: 0 0.25em; line-height: 1; border-radius: 0.35em;\">\n",
              "    Fungal pneumonia.\n",
              "    <span style=\"font-size: 0.8em; font-weight: bold; line-height: 1; border-radius: 0.35em; vertical-align: middle; margin-left: 0.5rem\">DISEASE</span>\n",
              "</mark>\n",
              " If xun4 ray is improving then no need to worry. Hope I have solved your query. I will be happy to help you further. Wishing good health to your mother. Thanks. </div></span>"
            ]
          },
          "metadata": {}
        },
        {
          "output_type": "stream",
          "name": "stdout",
          "text": [
            "[{'text': 'bacterial pneumonia', 'label': 'DISEASE'}, {'text': 'pneumonia.', 'label': 'DISEASE'}, {'text': 'antibiotics', 'label': 'MEDICINE'}, {'text': 'xray', 'label': 'DIAGNOSIS'}, {'text': 'pneumonia is in both lungs.', 'label': 'DISEASE'}, {'text': 'No coughing', 'label': 'SYMPTOMS'}, {'text': 'no fever', 'label': 'SYMPTOMS'}, {'text': 'pneumonia.', 'label': 'DISEASE'}, {'text': 'pneumonia', 'label': 'DISEASE'}, {'text': 'pneumonia', 'label': 'DISEASE'}, {'text': 'chest x ray is showing', 'label': 'DIAGNOSIS'}, {'text': 'pneumonia', 'label': 'DISEASE'}, {'text': 'CT thorax', 'label': 'DIAGNOSIS'}, {'text': 'bronchoscopy', 'label': 'DIAGNOSIS'}, {'text': 'lung cancer', 'label': 'DISEASE'}, {'text': 'Tuberculosis', 'label': 'DISEASE'}, {'text': 'Fungal pneumonia.', 'label': 'DISEASE'}]\n"
          ]
        }
      ]
    },
    {
      "cell_type": "code",
      "source": [
        "import spacy\n",
        "import pickle"
      ],
      "metadata": {
        "id": "5O4GeLpcgAMx"
      },
      "execution_count": null,
      "outputs": []
    },
    {
      "cell_type": "code",
      "source": [
        "import spacy\n",
        "import pickle\n",
        "\n",
        "# Load your trained model\n",
        "nlp_ner = spacy.load(\"/content/drive/MyDrive/doctor_diagnosis/model-best\")\n",
        "\n",
        "# Dump the model to a pickle file\n",
        "with open(\"/content/drive/MyDrive/doctor_diagnosis/model.pkl\", \"wb\") as f:\n",
        "    pickle.dump(nlp_ner, f)"
      ],
      "metadata": {
        "id": "vvjct8bkgHGZ"
      },
      "execution_count": null,
      "outputs": []
    },
    {
      "cell_type": "code",
      "source": [
        "import spacy\n",
        "from spacy.tokens import DocBin\n",
        "import json\n",
        "\n",
        "# Load the trained model\n",
        "model_path = '/content/drive/MyDrive/doctor_diagnosis/model-best'\n",
        "nlp = spacy.load(model_path)\n",
        "\n",
        "# Load and process the test dataset\n",
        "test_data_path = '/path/to/your/test/dataset.spacy'\n",
        "test_doc_bin = DocBin().from_disk(test_data_path)\n",
        "\n",
        "# Get predicted entities\n",
        "predicted_entities = [ent.label_ for doc in test_doc_bin for ent in doc.ents]\n",
        "\n",
        "# Load and process the ground truth labels from the JSON file\n",
        "with open('/path/to/your/test_data.json', 'r') as f:\n",
        "    test_data = json.load(f)\n",
        "gold_entities = [entity['annotation']['entities'] for entity in test_data if 'annotation' in entity]\n",
        "\n",
        "# Flatten the list of lists into a single list of gold entities\n",
        "gold_entities = [label for sublist in gold_entities for _, _, label in sublist]\n",
        "\n",
        "# Calculate accuracy\n",
        "total_entities = len(gold_entities)\n",
        "correct_predictions = sum(1 for pred, gold in zip(predicted_entities, gold_entities) if pred == gold)\n",
        "accuracy = correct_predictions / total_entities\n",
        "\n",
        "print(\"Accuracy:\", accuracy)"
      ],
      "metadata": {
        "id": "3rIyXRPM8pHM"
      },
      "execution_count": null,
      "outputs": []
    },
    {
      "cell_type": "code",
      "source": [
        "# Define the data\n",
        "data = [\n",
        "    (0, 0.00, 97.86, 0.20, 0.22, 0.19, 0.00),\n",
        "    (1, 314.09, 4637.48, 39.93, 52.29, 32.30, 0.40),\n",
        "    (3, 893.86, 3429.81, 49.86, 50.78, 48.96, 0.50),\n",
        "    (5, 725.99, 2895.39, 54.93, 59.98, 50.66, 0.55),\n",
        "    (7, 227.06, 2312.53, 62.00, 58.59, 65.82, 0.62),\n",
        "    (9, 301.84, 1995.28, 76.84, 77.80, 75.89, 0.77)\n",
        "]\n",
        "\n",
        "# Find the maximum accuracy and corresponding epoch\n",
        "max_accuracy = max(data, key=lambda x: x[-1])\n",
        "max_epoch = max_accuracy[0]\n",
        "accuracy = max_accuracy[-1]\n",
        "\n",
        "print(\"Maximum Entity Recognition Accuracy:\")\n",
        "print(\"Epoch:\", max_epoch)\n",
        "print(\"Accuracy:\", accuracy)\n"
      ],
      "metadata": {
        "colab": {
          "base_uri": "https://localhost:8080/"
        },
        "id": "TOv467nJ-0jJ",
        "outputId": "acc59a49-bf8a-4bbf-dda7-7ae86139ec20"
      },
      "execution_count": null,
      "outputs": [
        {
          "output_type": "stream",
          "name": "stdout",
          "text": [
            "Maximum Entity Recognition Accuracy:\n",
            "Epoch: 9\n",
            "Accuracy: 0.77\n"
          ]
        }
      ]
    }
  ]
}